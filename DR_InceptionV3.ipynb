{
  "nbformat": 4,
  "nbformat_minor": 0,
  "metadata": {
    "colab": {
      "provenance": [],
      "authorship_tag": "ABX9TyM9Z2jVOynu94wEUYC4wAiM",
      "include_colab_link": true
    },
    "kernelspec": {
      "name": "python3",
      "display_name": "Python 3"
    },
    "language_info": {
      "name": "python"
    }
  },
  "cells": [
    {
      "cell_type": "markdown",
      "metadata": {
        "id": "view-in-github",
        "colab_type": "text"
      },
      "source": [
        "<a href=\"https://colab.research.google.com/github/Noor-Islam16/DiabeticRetinopathyusingInceptionV3/blob/master/DR_InceptionV3.ipynb\" target=\"_parent\"><img src=\"https://colab.research.google.com/assets/colab-badge.svg\" alt=\"Open In Colab\"/></a>"
      ]
    },
    {
      "cell_type": "markdown",
      "source": [
        "# ***Development of a Diabetic Retinopathy Classification Model Using InceptionV3***"
      ],
      "metadata": {
        "id": "TjXED8eJRGdp"
      }
    },
    {
      "cell_type": "markdown",
      "source": [
        "***This Python script utilizes PyTorch and the InceptionV3 architecture to create a robust Diabetic Retinopathy classification model. The dataset, sourced from Google Drive, undergoes preprocessing and is split into training, validation, and testing sets. The model is trained over 25 epochs, with detailed evaluation metrics, including accuracy, confusion matrix, and classification report. The overall specificity and sensitivity are calculated, providing a comprehensive analysis of the model's performance in detecting Diabetic Retinopathy. Visualization of the test confusion matrix enhances interpretability.***"
      ],
      "metadata": {
        "id": "WyaKldSQRKZI"
      }
    },
    {
      "cell_type": "markdown",
      "source": [
        "# ***Imports and Data Loading***"
      ],
      "metadata": {
        "id": "ePQPmCxvF09S"
      }
    },
    {
      "cell_type": "code",
      "execution_count": null,
      "metadata": {
        "colab": {
          "base_uri": "https://localhost:8080/"
        },
        "id": "KxKBCY47lBke",
        "outputId": "cd1826ca-5039-4962-bc43-e74850780093"
      },
      "outputs": [
        {
          "output_type": "stream",
          "name": "stdout",
          "text": [
            "Mounted at /content/drive\n"
          ]
        }
      ],
      "source": [
        "from google.colab import drive\n",
        "drive.mount('/content/drive')"
      ]
    },
    {
      "cell_type": "code",
      "source": [
        "!unzip /content/drive/MyDrive/Dataset/DiaDataset.zip"
      ],
      "metadata": {
        "id": "PX7iTDb6lK1L",
        "colab": {
          "base_uri": "https://localhost:8080/"
        },
        "outputId": "ca88ca55-c4a7-42e9-a407-54d0f326bbbb"
      },
      "execution_count": null,
      "outputs": [
        {
          "output_type": "stream",
          "name": "stdout",
          "text": [
            "Archive:  /content/drive/MyDrive/Dataset/DiaDataset.zip\n",
            "replace DiaDataset/test_uptoCLAHEall/test_uptoCLAHE_GRADE0/20051020_44982_0100_PP.jpg? [y]es, [n]o, [A]ll, [N]one, [r]ename: N\n"
          ]
        }
      ]
    },
    {
      "cell_type": "code",
      "source": [
        "import torch\n",
        "import torch.nn as nn\n",
        "import torch.optim as optim\n",
        "from torch.utils.data import DataLoader, random_split\n",
        "from torchvision import transforms, datasets, models\n",
        "from sklearn.metrics import confusion_matrix, accuracy_score, classification_report\n",
        "import matplotlib.pyplot as plt\n",
        "import numpy as np\n",
        "from tqdm import tqdm"
      ],
      "metadata": {
        "id": "LQg-MOnHlNCw"
      },
      "execution_count": null,
      "outputs": []
    },
    {
      "cell_type": "markdown",
      "source": [
        "# ***Data Transformations and Dataset Creation***"
      ],
      "metadata": {
        "id": "2gN2yrYlGAc2"
      }
    },
    {
      "cell_type": "code",
      "source": [
        "# Data transformations\n",
        "transform = transforms.Compose([\n",
        "    transforms.Resize((299, 299)),  # InceptionV3 requires input size (299, 299)\n",
        "    transforms.ToTensor(),\n",
        "])\n"
      ],
      "metadata": {
        "id": "8PYpN7selVGN"
      },
      "execution_count": null,
      "outputs": []
    },
    {
      "cell_type": "code",
      "source": [
        "# Create an instance of the ImageFolder dataset\n",
        "dataset = datasets.ImageFolder(root='/content/DiaDataset/train_uptoCLAHEall', transform=transform)\n"
      ],
      "metadata": {
        "id": "7fVGdE-jlXTo"
      },
      "execution_count": null,
      "outputs": []
    },
    {
      "cell_type": "code",
      "source": [
        "# Split the dataset into train and validation sets\n",
        "train_size = int(0.8 * len(dataset))\n",
        "val_size = len(dataset) - train_size\n",
        "train_dataset, val_dataset = random_split(dataset, [train_size, val_size])\n"
      ],
      "metadata": {
        "id": "mexz671NlZ3V"
      },
      "execution_count": null,
      "outputs": []
    },
    {
      "cell_type": "code",
      "source": [
        "# Define data loaders\n",
        "train_loader = DataLoader(train_dataset, batch_size=32, shuffle=True)\n",
        "val_loader = DataLoader(val_dataset, batch_size=32, shuffle=False)\n",
        "test_loader = DataLoader(dataset, batch_size=32, shuffle=False)  # Use the entire dataset for testing\n"
      ],
      "metadata": {
        "id": "BFptZ2emlcFf"
      },
      "execution_count": null,
      "outputs": []
    },
    {
      "cell_type": "markdown",
      "source": [
        "# ***Model Definition and Configuration***"
      ],
      "metadata": {
        "id": "_EaLUS7ZGIIW"
      }
    },
    {
      "cell_type": "code",
      "source": [
        "# Define InceptionV3 model\n",
        "model = models.inception_v3(pretrained=True, aux_logits=True)\n",
        "num_ftrs = model.fc.in_features\n",
        "model.fc = nn.Linear(num_ftrs, len(dataset.classes))"
      ],
      "metadata": {
        "id": "C2IvZlnBleCM",
        "colab": {
          "base_uri": "https://localhost:8080/"
        },
        "outputId": "e8ae7c7d-b349-4f7e-fddc-143a9fba099c"
      },
      "execution_count": null,
      "outputs": [
        {
          "output_type": "stream",
          "name": "stderr",
          "text": [
            "/usr/local/lib/python3.10/dist-packages/torchvision/models/_utils.py:208: UserWarning: The parameter 'pretrained' is deprecated since 0.13 and may be removed in the future, please use 'weights' instead.\n",
            "  warnings.warn(\n",
            "/usr/local/lib/python3.10/dist-packages/torchvision/models/_utils.py:223: UserWarning: Arguments other than a weight enum or `None` for 'weights' are deprecated since 0.13 and may be removed in the future. The current behavior is equivalent to passing `weights=Inception_V3_Weights.IMAGENET1K_V1`. You can also use `weights=Inception_V3_Weights.DEFAULT` to get the most up-to-date weights.\n",
            "  warnings.warn(msg)\n"
          ]
        }
      ]
    },
    {
      "cell_type": "code",
      "source": [
        "# Define loss function and optimizer\n",
        "criterion = nn.CrossEntropyLoss()\n",
        "optimizer = optim.Adam(model.parameters(), lr=0.001)"
      ],
      "metadata": {
        "id": "_dhdzUTvlg_N"
      },
      "execution_count": null,
      "outputs": []
    },
    {
      "cell_type": "markdown",
      "source": [
        "# ***Training Loop***"
      ],
      "metadata": {
        "id": "TIx-asB-GPgb"
      }
    },
    {
      "cell_type": "code",
      "source": [
        "# Training loop\n",
        "num_epochs = 15\n",
        "\n",
        "device = torch.device(\"cuda\" if torch.cuda.is_available() else \"cpu\")\n",
        "model.to(device)\n",
        "\n",
        "for epoch in range(num_epochs):\n",
        "    model.train()\n",
        "    total_loss = 0.0\n",
        "\n",
        "    # Use tqdm for progress bar\n",
        "    progress_bar = tqdm(train_loader, desc=f'Epoch {epoch + 1}/{num_epochs}', dynamic_ncols=True)\n",
        "\n",
        "    for inputs, labels in progress_bar:\n",
        "        inputs, labels = inputs.to(device), labels.to(device)\n",
        "\n",
        "        optimizer.zero_grad()\n",
        "        outputs, _ = model(inputs)  # Extract logits from the output\n",
        "        loss = criterion(outputs, labels)\n",
        "        loss.backward()\n",
        "        optimizer.step()\n",
        "\n",
        "        total_loss += loss.item()\n",
        "\n",
        "        # Update progress bar with loss value\n",
        "        progress_bar.set_postfix(loss=f'{total_loss / len(progress_bar):.4f}')\n",
        "\n",
        "    # Optional: Print the average loss for the epoch\n",
        "    print(f'Epoch {epoch + 1}/{num_epochs}, Average Training Loss: {total_loss / len(train_loader):.4f}')\n"
      ],
      "metadata": {
        "id": "y8J5z_dHljdN",
        "colab": {
          "base_uri": "https://localhost:8080/"
        },
        "outputId": "43f30fd4-d94b-4eaa-bbd3-3ee1543c20e7"
      },
      "execution_count": null,
      "outputs": [
        {
          "metadata": {
            "tags": null
          },
          "name": "stderr",
          "output_type": "stream",
          "text": [
            "Epoch 1/15: 100%|██████████| 23/23 [10:57<00:00, 28.60s/it, loss=1.1579]\n"
          ]
        },
        {
          "metadata": {
            "tags": null
          },
          "name": "stdout",
          "output_type": "stream",
          "text": [
            "Epoch 1/15, Average Training Loss: 1.1579\n"
          ]
        },
        {
          "metadata": {
            "tags": null
          },
          "name": "stderr",
          "output_type": "stream",
          "text": [
            "Epoch 2/15: 100%|██████████| 23/23 [10:45<00:00, 28.09s/it, loss=0.9141]\n"
          ]
        },
        {
          "metadata": {
            "tags": null
          },
          "name": "stdout",
          "output_type": "stream",
          "text": [
            "Epoch 2/15, Average Training Loss: 0.9141\n"
          ]
        },
        {
          "metadata": {
            "tags": null
          },
          "name": "stderr",
          "output_type": "stream",
          "text": [
            "Epoch 3/15: 100%|██████████| 23/23 [10:44<00:00, 28.04s/it, loss=0.7927]\n"
          ]
        },
        {
          "metadata": {
            "tags": null
          },
          "name": "stdout",
          "output_type": "stream",
          "text": [
            "Epoch 3/15, Average Training Loss: 0.7927\n"
          ]
        },
        {
          "metadata": {
            "tags": null
          },
          "name": "stderr",
          "output_type": "stream",
          "text": [
            "Epoch 4/15: 100%|██████████| 23/23 [10:44<00:00, 28.00s/it, loss=0.6858]\n"
          ]
        },
        {
          "metadata": {
            "tags": null
          },
          "name": "stdout",
          "output_type": "stream",
          "text": [
            "Epoch 4/15, Average Training Loss: 0.6858\n"
          ]
        },
        {
          "metadata": {
            "tags": null
          },
          "name": "stderr",
          "output_type": "stream",
          "text": [
            "Epoch 5/15: 100%|██████████| 23/23 [10:48<00:00, 28.19s/it, loss=0.6271]\n"
          ]
        },
        {
          "metadata": {
            "tags": null
          },
          "name": "stdout",
          "output_type": "stream",
          "text": [
            "Epoch 5/15, Average Training Loss: 0.6271\n"
          ]
        },
        {
          "metadata": {
            "tags": null
          },
          "name": "stderr",
          "output_type": "stream",
          "text": [
            "Epoch 6/15: 100%|██████████| 23/23 [10:47<00:00, 28.15s/it, loss=0.5697]\n"
          ]
        },
        {
          "metadata": {
            "tags": null
          },
          "name": "stdout",
          "output_type": "stream",
          "text": [
            "Epoch 6/15, Average Training Loss: 0.5697\n"
          ]
        },
        {
          "metadata": {
            "tags": null
          },
          "name": "stderr",
          "output_type": "stream",
          "text": [
            "Epoch 7/15: 100%|██████████| 23/23 [10:51<00:00, 28.34s/it, loss=0.4155]\n"
          ]
        },
        {
          "metadata": {
            "tags": null
          },
          "name": "stdout",
          "output_type": "stream",
          "text": [
            "Epoch 7/15, Average Training Loss: 0.4155\n"
          ]
        },
        {
          "metadata": {
            "tags": null
          },
          "name": "stderr",
          "output_type": "stream",
          "text": [
            "Epoch 8/15: 100%|██████████| 23/23 [10:43<00:00, 27.97s/it, loss=0.3255]\n"
          ]
        },
        {
          "metadata": {
            "tags": null
          },
          "name": "stdout",
          "output_type": "stream",
          "text": [
            "Epoch 8/15, Average Training Loss: 0.3255\n"
          ]
        },
        {
          "metadata": {
            "tags": null
          },
          "name": "stderr",
          "output_type": "stream",
          "text": [
            "Epoch 9/15: 100%|██████████| 23/23 [10:48<00:00, 28.20s/it, loss=0.2559]\n"
          ]
        },
        {
          "metadata": {
            "tags": null
          },
          "name": "stdout",
          "output_type": "stream",
          "text": [
            "Epoch 9/15, Average Training Loss: 0.2559\n"
          ]
        },
        {
          "metadata": {
            "tags": null
          },
          "name": "stderr",
          "output_type": "stream",
          "text": [
            "Epoch 10/15: 100%|██████████| 23/23 [10:46<00:00, 28.11s/it, loss=0.2224]\n"
          ]
        },
        {
          "metadata": {
            "tags": null
          },
          "name": "stdout",
          "output_type": "stream",
          "text": [
            "Epoch 10/15, Average Training Loss: 0.2224\n"
          ]
        },
        {
          "metadata": {
            "tags": null
          },
          "name": "stderr",
          "output_type": "stream",
          "text": [
            "Epoch 11/15: 100%|██████████| 23/23 [10:41<00:00, 27.89s/it, loss=0.2898]\n"
          ]
        },
        {
          "metadata": {
            "tags": null
          },
          "name": "stdout",
          "output_type": "stream",
          "text": [
            "Epoch 11/15, Average Training Loss: 0.2898\n"
          ]
        },
        {
          "metadata": {
            "tags": null
          },
          "name": "stderr",
          "output_type": "stream",
          "text": [
            "Epoch 12/15: 100%|██████████| 23/23 [10:42<00:00, 27.92s/it, loss=0.2370]\n"
          ]
        },
        {
          "metadata": {
            "tags": null
          },
          "name": "stdout",
          "output_type": "stream",
          "text": [
            "Epoch 12/15, Average Training Loss: 0.2370\n"
          ]
        },
        {
          "output_type": "stream",
          "name": "stderr",
          "text": [
            "Epoch 13/15: 100%|██████████| 23/23 [10:42<00:00, 27.92s/it, loss=0.1430]\n"
          ]
        },
        {
          "output_type": "stream",
          "name": "stdout",
          "text": [
            "Epoch 13/15, Average Training Loss: 0.1430\n"
          ]
        },
        {
          "output_type": "stream",
          "name": "stderr",
          "text": [
            "Epoch 14/15: 100%|██████████| 23/23 [10:37<00:00, 27.71s/it, loss=0.1717]\n"
          ]
        },
        {
          "output_type": "stream",
          "name": "stdout",
          "text": [
            "Epoch 14/15, Average Training Loss: 0.1717\n"
          ]
        },
        {
          "output_type": "stream",
          "name": "stderr",
          "text": [
            "Epoch 15/15: 100%|██████████| 23/23 [10:37<00:00, 27.71s/it, loss=0.1391]"
          ]
        },
        {
          "output_type": "stream",
          "name": "stdout",
          "text": [
            "Epoch 15/15, Average Training Loss: 0.1391\n"
          ]
        },
        {
          "output_type": "stream",
          "name": "stderr",
          "text": [
            "\n"
          ]
        }
      ]
    },
    {
      "cell_type": "code",
      "source": [
        "# Training loop\n",
        "num_epochs = 10\n",
        "\n",
        "device = torch.device(\"cuda\" if torch.cuda.is_available() else \"cpu\")\n",
        "model.to(device)\n",
        "\n",
        "for epoch in range(num_epochs):\n",
        "    model.train()\n",
        "    total_loss = 0.0\n",
        "\n",
        "    # Use tqdm for progress bar\n",
        "    progress_bar = tqdm(train_loader, desc=f'Epoch {epoch + 1}/{num_epochs}', dynamic_ncols=True)\n",
        "\n",
        "    for inputs, labels in progress_bar:\n",
        "        inputs, labels = inputs.to(device), labels.to(device)\n",
        "\n",
        "        optimizer.zero_grad()\n",
        "        outputs, _ = model(inputs)  # Extract logits from the output\n",
        "        loss = criterion(outputs, labels)\n",
        "        loss.backward()\n",
        "        optimizer.step()\n",
        "\n",
        "        total_loss += loss.item()\n",
        "\n",
        "        # Update progress bar with loss value\n",
        "        progress_bar.set_postfix(loss=f'{total_loss / len(progress_bar):.4f}')\n",
        "\n",
        "    # Optional: Print the average loss for the epoch\n",
        "    print(f'Epoch {epoch + 1}/{num_epochs}, Average Training Loss: {total_loss / len(train_loader):.4f}')\n"
      ],
      "metadata": {
        "colab": {
          "base_uri": "https://localhost:8080/"
        },
        "id": "wm0qaskWhpKU",
        "outputId": "14f0682b-8d48-4ecc-ae71-974cb239ee8a"
      },
      "execution_count": null,
      "outputs": [
        {
          "output_type": "stream",
          "name": "stderr",
          "text": [
            "Epoch 1/10: 100%|██████████| 23/23 [10:52<00:00, 28.37s/it, loss=0.1033]\n"
          ]
        },
        {
          "output_type": "stream",
          "name": "stdout",
          "text": [
            "Epoch 1/10, Average Training Loss: 0.1033\n"
          ]
        },
        {
          "output_type": "stream",
          "name": "stderr",
          "text": [
            "Epoch 2/10: 100%|██████████| 23/23 [10:55<00:00, 28.48s/it, loss=0.0796]\n"
          ]
        },
        {
          "output_type": "stream",
          "name": "stdout",
          "text": [
            "Epoch 2/10, Average Training Loss: 0.0796\n"
          ]
        },
        {
          "output_type": "stream",
          "name": "stderr",
          "text": [
            "Epoch 3/10: 100%|██████████| 23/23 [10:48<00:00, 28.18s/it, loss=0.0771]\n"
          ]
        },
        {
          "output_type": "stream",
          "name": "stdout",
          "text": [
            "Epoch 3/10, Average Training Loss: 0.0771\n"
          ]
        },
        {
          "output_type": "stream",
          "name": "stderr",
          "text": [
            "Epoch 4/10: 100%|██████████| 23/23 [10:47<00:00, 28.14s/it, loss=0.0612]\n"
          ]
        },
        {
          "output_type": "stream",
          "name": "stdout",
          "text": [
            "Epoch 4/10, Average Training Loss: 0.0612\n"
          ]
        },
        {
          "output_type": "stream",
          "name": "stderr",
          "text": [
            "Epoch 5/10: 100%|██████████| 23/23 [10:50<00:00, 28.27s/it, loss=0.0831]\n"
          ]
        },
        {
          "output_type": "stream",
          "name": "stdout",
          "text": [
            "Epoch 5/10, Average Training Loss: 0.0831\n"
          ]
        },
        {
          "output_type": "stream",
          "name": "stderr",
          "text": [
            "Epoch 6/10: 100%|██████████| 23/23 [11:02<00:00, 28.79s/it, loss=0.0672]\n"
          ]
        },
        {
          "output_type": "stream",
          "name": "stdout",
          "text": [
            "Epoch 6/10, Average Training Loss: 0.0672\n"
          ]
        },
        {
          "output_type": "stream",
          "name": "stderr",
          "text": [
            "Epoch 7/10: 100%|██████████| 23/23 [10:51<00:00, 28.32s/it, loss=0.0355]\n"
          ]
        },
        {
          "output_type": "stream",
          "name": "stdout",
          "text": [
            "Epoch 7/10, Average Training Loss: 0.0355\n"
          ]
        },
        {
          "output_type": "stream",
          "name": "stderr",
          "text": [
            "Epoch 8/10: 100%|██████████| 23/23 [10:39<00:00, 27.82s/it, loss=0.0204]\n"
          ]
        },
        {
          "output_type": "stream",
          "name": "stdout",
          "text": [
            "Epoch 8/10, Average Training Loss: 0.0204\n"
          ]
        },
        {
          "output_type": "stream",
          "name": "stderr",
          "text": [
            "Epoch 9/10: 100%|██████████| 23/23 [10:41<00:00, 27.89s/it, loss=0.0221]\n"
          ]
        },
        {
          "output_type": "stream",
          "name": "stdout",
          "text": [
            "Epoch 9/10, Average Training Loss: 0.0221\n"
          ]
        },
        {
          "output_type": "stream",
          "name": "stderr",
          "text": [
            "Epoch 10/10: 100%|██████████| 23/23 [10:51<00:00, 28.31s/it, loss=0.0329]"
          ]
        },
        {
          "output_type": "stream",
          "name": "stdout",
          "text": [
            "Epoch 10/10, Average Training Loss: 0.0329\n"
          ]
        },
        {
          "output_type": "stream",
          "name": "stderr",
          "text": [
            "\n"
          ]
        }
      ]
    },
    {
      "cell_type": "markdown",
      "source": [
        "# ***Validation***"
      ],
      "metadata": {
        "id": "Sv9T_jmKGfOW"
      }
    },
    {
      "cell_type": "code",
      "source": [
        "    # Validation\n",
        "    model.eval()\n",
        "    val_preds = []\n",
        "    val_labels = []\n",
        "\n",
        "    with torch.no_grad():\n",
        "        for inputs, labels in val_loader:\n",
        "            inputs, labels = inputs.to(device), labels.to(device)\n",
        "\n",
        "            outputs = model(inputs)\n",
        "            _, preds = torch.max(outputs, 1)\n",
        "\n",
        "            val_preds.extend(preds.cpu().numpy())\n",
        "            val_labels.extend(labels.cpu().numpy())\n",
        "\n",
        "    # Calculate validation metrics\n",
        "    val_accuracy = accuracy_score(val_labels, val_preds)\n",
        "    val_conf_matrix = confusion_matrix(val_labels, val_preds)\n",
        "    val_report = classification_report(val_labels, val_preds)\n",
        "\n",
        "    print(f'Epoch {epoch + 1}/{num_epochs}, Validation Accuracy: {val_accuracy * 100:.2f}%')\n",
        "    print('Validation Confusion Matrix:')\n",
        "    print(val_conf_matrix)\n",
        "    print('Validation Classification Report:')\n",
        "    print(val_report)"
      ],
      "metadata": {
        "colab": {
          "base_uri": "https://localhost:8080/"
        },
        "id": "3b34ZofVzOag",
        "outputId": "fa29ae42-75f5-4cf1-8861-8616ef360b07"
      },
      "execution_count": null,
      "outputs": [
        {
          "output_type": "stream",
          "name": "stdout",
          "text": [
            "Epoch 10/10, Validation Accuracy: 61.41%\n",
            "Validation Confusion Matrix:\n",
            "[[61 12  0  0]\n",
            " [18  8  3  0]\n",
            " [12  8 13  7]\n",
            " [ 7  1  3 31]]\n",
            "Validation Classification Report:\n",
            "              precision    recall  f1-score   support\n",
            "\n",
            "           0       0.62      0.84      0.71        73\n",
            "           1       0.28      0.28      0.28        29\n",
            "           2       0.68      0.33      0.44        40\n",
            "           3       0.82      0.74      0.78        42\n",
            "\n",
            "    accuracy                           0.61       184\n",
            "   macro avg       0.60      0.54      0.55       184\n",
            "weighted avg       0.63      0.61      0.60       184\n",
            "\n"
          ]
        }
      ]
    },
    {
      "cell_type": "markdown",
      "source": [
        "# ***Testing and Evaluation***"
      ],
      "metadata": {
        "id": "Q6Jy2VBCGcP-"
      }
    },
    {
      "cell_type": "code",
      "source": [
        "# Testing and evaluation with progress bar\n",
        "model.eval()\n",
        "all_preds = []\n",
        "all_labels = []\n",
        "\n",
        "with torch.no_grad():\n",
        "    # Use tqdm for progress bar\n",
        "    progress_bar = tqdm(test_loader, desc='Testing', dynamic_ncols=True)\n",
        "\n",
        "    for inputs, labels in progress_bar:\n",
        "        inputs, labels = inputs.to(device), labels.to(device)\n",
        "\n",
        "        outputs = model(inputs)\n",
        "        _, preds = torch.max(outputs, 1)\n",
        "\n",
        "        all_preds.extend(preds.cpu().numpy())\n",
        "        all_labels.extend(labels.cpu().numpy())\n",
        "\n",
        "        # Update progress bar\n",
        "        progress_bar.set_postfix(accuracy=f'{accuracy_score(all_labels, all_preds) * 100:.2f}%')\n"
      ],
      "metadata": {
        "id": "5mjQiswNlpT4",
        "colab": {
          "base_uri": "https://localhost:8080/"
        },
        "outputId": "96aedd30-a45b-41f3-d4a9-099771113c01"
      },
      "execution_count": null,
      "outputs": [
        {
          "output_type": "stream",
          "name": "stderr",
          "text": [
            "Testing: 100%|██████████| 29/29 [04:31<00:00,  9.36s/it, accuracy=91.41%]\n"
          ]
        }
      ]
    },
    {
      "cell_type": "markdown",
      "source": [
        "# ***Metrics Calculation and Display***"
      ],
      "metadata": {
        "id": "DLgPG5xEGz1R"
      }
    },
    {
      "cell_type": "code",
      "source": [
        "# Calculate overall specificity and sensitivity\n",
        "class_count = len(conf_matrix)\n",
        "total_true_positive = np.sum(np.diag(conf_matrix))\n",
        "total_false_positive = np.sum(conf_matrix, axis=0) - np.diag(conf_matrix)\n",
        "total_false_negative = np.sum(conf_matrix, axis=1) - np.diag(conf_matrix)\n",
        "total_true_negative = np.sum(conf_matrix) - (total_true_positive + total_false_positive + total_false_negative)\n",
        "\n",
        "overall_specificity = np.sum(total_true_negative / (total_true_negative + total_false_positive)) / class_count\n",
        "overall_sensitivity = np.sum(total_true_positive / (total_true_positive + total_false_negative)) / class_count\n",
        "\n",
        "print(f'Overall Specificity: {overall_specificity * 100:.2f}%')\n",
        "print(f'Overall Sensitivity: {overall_sensitivity * 100:.2f}%')"
      ],
      "metadata": {
        "id": "O6ckXmkBmBAl",
        "colab": {
          "base_uri": "https://localhost:8080/"
        },
        "outputId": "bee2075a-91c9-4eee-e13b-b91569d330eb"
      },
      "execution_count": null,
      "outputs": [
        {
          "output_type": "stream",
          "name": "stdout",
          "text": [
            "Overall Specificity: 66.34%\n",
            "Overall Sensitivity: 96.04%\n"
          ]
        }
      ]
    },
    {
      "cell_type": "code",
      "source": [
        "# Calculate metrics\n",
        "accuracy = accuracy_score(all_labels, all_preds)\n",
        "conf_matrix = confusion_matrix(all_labels, all_preds)\n",
        "report = classification_report(all_labels, all_preds)\n",
        "\n",
        "print(f'Test Accuracy: {accuracy * 100:.2f}%')\n",
        "print('Test Confusion Matrix:')\n",
        "print(conf_matrix)\n",
        "print('Test Classification Report:')\n",
        "print(report)"
      ],
      "metadata": {
        "id": "CclI2mR_l_Bh",
        "colab": {
          "base_uri": "https://localhost:8080/"
        },
        "outputId": "26926cb3-ab64-43ac-ff61-0654e4d5ce74"
      },
      "execution_count": null,
      "outputs": [
        {
          "output_type": "stream",
          "name": "stdout",
          "text": [
            "Test Accuracy: 91.41%\n",
            "Test Confusion Matrix:\n",
            "[[404  18   0   0]\n",
            " [ 18 107   3   0]\n",
            " [ 13   8 167   8]\n",
            " [  7   1   3 163]]\n",
            "Test Classification Report:\n",
            "              precision    recall  f1-score   support\n",
            "\n",
            "           0       0.91      0.96      0.94       422\n",
            "           1       0.80      0.84      0.82       128\n",
            "           2       0.97      0.85      0.91       196\n",
            "           3       0.95      0.94      0.94       174\n",
            "\n",
            "    accuracy                           0.91       920\n",
            "   macro avg       0.91      0.90      0.90       920\n",
            "weighted avg       0.92      0.91      0.91       920\n",
            "\n"
          ]
        }
      ]
    },
    {
      "cell_type": "code",
      "source": [
        "# Plotting the confusion matrix\n",
        "plt.figure(figsize=(8, 6))\n",
        "plt.imshow(conf_matrix, interpolation='nearest', cmap=plt.cm.Blues)\n",
        "plt.title('Test Confusion Matrix')\n",
        "plt.colorbar()\n",
        "plt.xticks(np.arange(len(dataset.classes)), dataset.classes, rotation=45)\n",
        "plt.yticks(np.arange(len(dataset.classes)), dataset.classes)\n",
        "plt.show()"
      ],
      "metadata": {
        "id": "-pSp-SulmEBO",
        "colab": {
          "base_uri": "https://localhost:8080/",
          "height": 670
        },
        "outputId": "c6b224a1-c1d7-4525-dd58-2030f7844189"
      },
      "execution_count": null,
      "outputs": [
        {
          "output_type": "display_data",
          "data": {
            "text/plain": [
              "<Figure size 800x600 with 2 Axes>"
            ],
            "image/png": "[encoded data removed]"
          },
          "metadata": {}
        }
      ]
    }
  ]
}